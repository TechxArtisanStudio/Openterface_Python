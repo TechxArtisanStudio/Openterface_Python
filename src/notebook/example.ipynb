{
 "cells": [
  {
   "cell_type": "markdown",
   "id": "a657d7d7",
   "metadata": {},
   "source": [
    "## requirements libs\n",
    "### window\n",
    "```\n",
    "python-ffmpeg == 2.0.12\n",
    "hidapi == 0.14.0.post4\n",
    "pyserial == 3.5\n",
    "```\n",
    "pip install -e ."
   ]
  },
  {
   "cell_type": "code",
   "execution_count": null,
   "id": "152c7f4a",
   "metadata": {},
   "outputs": [],
   "source": [
    "# steam example\n",
    "from device import DeviceGroupsWin\n",
    "from device import VideoFFmpeg\n",
    "\n",
    "HID_VID = \"534D\"\n",
    "HID_PID = \"2109\"\n",
    "Serial_port_VID = \"1A86\"\n",
    "Serial_port_PID = \"7523\"\n",
    "device_info_list = DeviceGroupsWin.search_phycial_device(Serial_port_VID, Serial_port_PID, HID_VID, HID_PID)\n",
    "video_path = device_info_list[0]['camera_path']\n",
    "audio_path = device_info_list[0]['audio_path']\n",
    "video_url = \"rtp://192.168.100.66:5000\"\n",
    "VideoFFmpeg.start_stream(video_path, audio_path, video_url, \"windows\")"
   ]
  },
  {
   "cell_type": "code",
   "execution_count": null,
   "id": "76b70e28",
   "metadata": {},
   "outputs": [],
   "source": []
  },
  {
   "cell_type": "code",
   "execution_count": null,
   "id": "6d51e06b",
   "metadata": {},
   "outputs": [],
   "source": []
  }
 ],
 "metadata": {
  "kernelspec": {
   "display_name": "openterface",
   "language": "python",
   "name": "python3"
  },
  "language_info": {
   "codemirror_mode": {
    "name": "ipython",
    "version": 3
   },
   "file_extension": ".py",
   "mimetype": "text/x-python",
   "name": "python",
   "nbconvert_exporter": "python",
   "pygments_lexer": "ipython3",
   "version": "3.10.18"
  }
 },
 "nbformat": 4,
 "nbformat_minor": 5
}
